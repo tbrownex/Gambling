{
 "cells": [
  {
   "cell_type": "code",
   "execution_count": 1,
   "id": "e26fd743",
   "metadata": {},
   "outputs": [],
   "source": [
    "def getWinPct(line):\n",
    "    if line > 0:\n",
    "        return 100/(100+line)\n",
    "    else:\n",
    "        line = line*-1\n",
    "        return line/(100+line)"
   ]
  },
  {
   "cell_type": "code",
   "execution_count": 8,
   "id": "8ec9e729",
   "metadata": {},
   "outputs": [
    {
     "name": "stdout",
     "output_type": "stream",
     "text": [
      "chance of winning: 65.0%\n",
      "chance of winning: 31.2%\n"
     ]
    }
   ],
   "source": [
    "line = 186\n",
    "g1 = getWinPct(-line)\n",
    "print(\"chance of winning: {:.1%}\".format(g1))\n",
    "\n",
    "line = 221\n",
    "g2 = getWinPct(line)\n",
    "print(\"chance of winning: {:.1%}\".format(g2))\n",
    "\n",
    "#line = -700\n",
    "#print(\"chance of winning: {:.1%}\".format(g3))\n",
    "#print(\"chance of winning: {:.1%}\".format(g3))"
   ]
  },
  {
   "cell_type": "code",
   "execution_count": 45,
   "id": "b657ec29",
   "metadata": {},
   "outputs": [
    {
     "name": "stdout",
     "output_type": "stream",
     "text": [
      "chance of winning all of them: 28.9%\n",
      "Parlay chance of winning: 28.2%\n"
     ]
    }
   ],
   "source": [
    "# Parlay calculator\n",
    "print(\"chance of winning all of them: {:.1%}\".format(g1*g2*g3))\n",
    "line = 254\n",
    "parlay = getWinPct(line)\n",
    "print(\"Parlay chance of winning: {:.1%}\".format(parlay))"
   ]
  },
  {
   "cell_type": "code",
   "execution_count": 47,
   "id": "9936aad8",
   "metadata": {},
   "outputs": [
    {
     "data": {
      "text/plain": [
       "0.9767613692680598"
      ]
     },
     "execution_count": 47,
     "metadata": {},
     "output_type": "execute_result"
    }
   ],
   "source": [
    "parlay/(g1*g2*g3)"
   ]
  },
  {
   "cell_type": "code",
   "execution_count": null,
   "id": "a200a145",
   "metadata": {},
   "outputs": [],
   "source": []
  }
 ],
 "metadata": {
  "kernelspec": {
   "display_name": "tensorflow",
   "language": "python",
   "name": "tensorflow"
  },
  "language_info": {
   "codemirror_mode": {
    "name": "ipython",
    "version": 3
   },
   "file_extension": ".py",
   "mimetype": "text/x-python",
   "name": "python",
   "nbconvert_exporter": "python",
   "pygments_lexer": "ipython3",
   "version": "3.8.10"
  }
 },
 "nbformat": 4,
 "nbformat_minor": 5
}
