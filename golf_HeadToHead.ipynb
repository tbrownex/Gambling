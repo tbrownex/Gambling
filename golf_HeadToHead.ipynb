{
 "cells": [
  {
   "cell_type": "code",
   "execution_count": 1,
   "id": "6828fe2b",
   "metadata": {},
   "outputs": [],
   "source": [
    "from generateRandomSample import generateRandomSample"
   ]
  },
  {
   "cell_type": "code",
   "execution_count": 151,
   "id": "66562180",
   "metadata": {},
   "outputs": [],
   "source": [
    "a = set(generateRandomSample(71.6, 3.2, 100000))\n",
    "b = set(generateRandomSample(70, 3.2, 100000))\n",
    "\n",
    "a = [int(x) for x in a]\n",
    "b = [int(x) for x in b]"
   ]
  },
  {
   "cell_type": "code",
   "execution_count": 152,
   "id": "50e30da1",
   "metadata": {},
   "outputs": [],
   "source": [
    "fav=0\n",
    "dog=0\n",
    "for x,y in zip(a,b):\n",
    "    if x>y:\n",
    "        fav+=1\n",
    "    if x<y:\n",
    "        dog+=1"
   ]
  },
  {
   "cell_type": "code",
   "execution_count": 153,
   "id": "a7b814ce",
   "metadata": {},
   "outputs": [
    {
     "name": "stdout",
     "output_type": "stream",
     "text": [
      "favorite: 59.6%  dog: 32.0%\n"
     ]
    }
   ],
   "source": [
    "print(\"favorite: {:.1%}  dog: {:.1%}\".format(fav/len(a), dog/len(a)))"
   ]
  },
  {
   "cell_type": "code",
   "execution_count": null,
   "id": "0da1c815",
   "metadata": {},
   "outputs": [],
   "source": []
  }
 ],
 "metadata": {
  "kernelspec": {
   "display_name": "tensorflow",
   "language": "python",
   "name": "tensorflow"
  },
  "language_info": {
   "codemirror_mode": {
    "name": "ipython",
    "version": 3
   },
   "file_extension": ".py",
   "mimetype": "text/x-python",
   "name": "python",
   "nbconvert_exporter": "python",
   "pygments_lexer": "ipython3",
   "version": "3.8.10"
  }
 },
 "nbformat": 4,
 "nbformat_minor": 5
}
